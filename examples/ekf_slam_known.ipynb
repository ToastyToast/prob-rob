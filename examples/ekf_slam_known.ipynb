{
 "cells": [
  {
   "cell_type": "code",
   "execution_count": 1,
   "metadata": {
    "collapsed": true
   },
   "outputs": [],
   "source": [
    "%load_ext autoreload\n",
    "%autoreload 2\n",
    "%matplotlib inline"
   ]
  },
  {
   "cell_type": "code",
   "execution_count": 2,
   "metadata": {
    "collapsed": true
   },
   "outputs": [],
   "source": [
    "import numpy as np\n",
    "import math\n",
    "import matplotlib.pyplot as plt\n",
    "\n",
    "from prob_rob.motion_models import OdometryMotionModel\n",
    "from prob_rob.data import read_simple_world, read_simple_data\n",
    "from prob_rob.utils import normalize_angle, sample_normal_distribution\n",
    "from prob_rob.robot import BaseRobot\n",
    "from prob_rob.map import LandmarkMap"
   ]
  },
  {
   "cell_type": "code",
   "execution_count": 3,
   "metadata": {
    "collapsed": false
   },
   "outputs": [],
   "source": [
    "class EKFSLAMKnown:\n",
    "    def __init__(self, pose, num_landmarks, motion_model=None):\n",
    "        # Main estimate\n",
    "        \n",
    "        landmark_pose = np.zeros((2*num_landmarks, 1))\n",
    "        \n",
    "        self.mean = np.concatenate((np.copy(pose), landmark_pose))\n",
    "        self.cov = np.zeros((self.mean.size, self.mean.size))\n",
    "        lm_cov = np.eye(2*num_landmarks)\n",
    "        np.fill_diagonal(\n",
    "            lm_cov,\n",
    "            10**10\n",
    "        )\n",
    "        self.cov[3:, 3:] = lm_cov\n",
    "        \n",
    "        # Intermediate variables\n",
    "        self._mean = np.copy(self.mean)\n",
    "        self._cov = np.copy(self.cov)\n",
    "\n",
    "        self.motion_model = motion_model\n",
    "\n",
    "    def predict(self, command):\n",
    "        robot_pose = self.mean[:3, :]\n",
    "        self._mean[:3, :] = self.motion_model.command_static(\n",
    "            robot_pose, \n",
    "            command\n",
    "        )\n",
    "\n",
    "        # TODO: Put in motion model\n",
    "        theta_n = normalize_angle(self.mean.item(2))\n",
    "        rot1, trans, rot2 = command\n",
    "\n",
    "        ang = normalize_angle(theta_n + rot1)\n",
    "        Gtx = np.matrix([\n",
    "            [1, 0, - trans * math.sin(ang)],\n",
    "            [0, 1, trans * math.cos(ang)],\n",
    "            [0, 0, 1],\n",
    "        ])\n",
    "        \n",
    "        lmsize = self.mean.shape[0] - 3\n",
    "        \n",
    "        r1zeros = np.zeros((3, lmsize))\n",
    "        r2zeros = np.copy(r1zeros.T)\n",
    "        \n",
    "        gr1 = np.concatenate( (Gtx, r1zeros), axis=1 )\n",
    "        gr2 = np.concatenate( (r2zeros, np.eye(lmsize)), axis=1)\n",
    "        Gt = np.concatenate((gr1, gr2))\n",
    "        \n",
    "        # motion noise\n",
    "        Rtx = np.matrix([\n",
    "            [0.1, 0, 0],\n",
    "            [0, 0.1, 0],\n",
    "            [0, 0, 0.01]\n",
    "        ])\n",
    "        \n",
    "        rr1zeros = np.zeros((3, lmsize))\n",
    "        rr2zeros = np.copy(rr1zeros.T)\n",
    "        \n",
    "        rr1 = np.concatenate(\n",
    "            (Rtx, rr1zeros), \n",
    "            axis=1\n",
    "        )\n",
    "        rr2 = np.concatenate( \n",
    "            (rr2zeros, np.zeros((lmsize, lmsize))),\n",
    "            axis=1\n",
    "        )\n",
    "        Rt = np.concatenate((rr1, rr2))\n",
    "        \n",
    "        self._cov = Gt * self.cov * Gt.T + Rt\n",
    "        \n",
    "        return self._mean, self._cov\n",
    "\n",
    "    def correct(self, measurements, local_map):\n",
    "        # measurement noise\n",
    "        Qt = np.eye(self._mean.size - 1) * 0.01\n",
    "\n",
    "        rx = self._mean.item(0)\n",
    "        ry = self._mean.item(1)\n",
    "        rtheta = normalize_angle(self._mean.item(2))\n",
    "\n",
    "        for reading in measurements:\n",
    "            # TODO: Put in measurement model\n",
    "            lid, srange, sbearing = reading\n",
    "            z_measured = np.matrix([srange, normalize_angle(sbearing)]).T\n",
    "\n",
    "            # Expected observation\n",
    "            \n",
    "            if not local_map.is_added(lid):\n",
    "                lx = rx + srange * math.cos(normalize_angle(sbearing + rtheta))\n",
    "                ly = ry + srange * math.sin(normalize_angle(sbearing + rtheta))\n",
    "                local_map.add((lid, lx, ly))\n",
    "            else:\n",
    "                lx, ly = local_map.get(lid)\n",
    "                \n",
    "            dx = lx - rx\n",
    "            dy = ly - ry\n",
    "            delta = np.matrix([dx, dy]).T\n",
    "            q = delta.T * delta\n",
    "            z_expected = np.matrix([\n",
    "                math.sqrt(q),\n",
    "                normalize_angle(np.arctan2(dy, dx) - rtheta)\n",
    "            ]).T\n",
    "            # Jacobian\n",
    "            Ht = np.matrix([\n",
    "                [-math.sqrt(q) * dx, -math.sqrt(q) * dy, 0],\n",
    "                [dy, -dx, -q]\n",
    "            ])\n",
    "            Ht = np.multiply((1.0 / q), Ht)\n",
    "\n",
    "            Kgain = self._cov * Ht.T * np.linalg.inv(Ht * self._cov * Ht.T + Qt)\n",
    "\n",
    "            diff = z_measured - z_expected\n",
    "            diff[1] = normalize_angle(diff.item(1))\n",
    "\n",
    "            self._mean = self._mean + Kgain * diff\n",
    "            self._cov = (np.eye(self._mean.size) - Kgain * Ht) * self._cov\n",
    "\n",
    "        self.mean = np.copy(self._mean)\n",
    "        self.cov = np.copy(self._cov)\n",
    "\n",
    "        return self.mean, self.cov"
   ]
  },
  {
   "cell_type": "code",
   "execution_count": 4,
   "metadata": {
    "collapsed": false
   },
   "outputs": [
    {
     "data": {
      "text/plain": [
       "[<matplotlib.lines.Line2D at 0x7766e80>]"
      ]
     },
     "execution_count": 4,
     "metadata": {},
     "output_type": "execute_result"
    },
    {
     "data": {
      "image/png": "[encoded data removed]",
      "text/plain": [
       "<matplotlib.figure.Figure at 0x74fe438>"
      ]
     },
     "metadata": {},
     "output_type": "display_data"
    },
    {
     "data": {
      "image/png": "[encoded data removed]",
      "text/plain": [
       "<matplotlib.figure.Figure at 0x758f390>"
      ]
     },
     "metadata": {},
     "output_type": "display_data"
    }
   ],
   "source": [
    "robot = BaseRobot(0, 0, 0)\n",
    "motion_model = OdometryMotionModel(robot.pose)\n",
    "robot.motion = motion_model\n",
    "\n",
    "odometry, sensor = read_simple_data('./data/simple/sensor_data.dat')\n",
    "landmarks = read_simple_world('./data/simple/world.dat')\n",
    "\n",
    "landmark_map = LandmarkMap([])\n",
    "commands = [np.array(odom).T for odom in odometry]\n",
    "\n",
    "num_landmarks = len(landmarks)\n",
    "EKF = EKFSLAMKnown(robot.pose, num_landmarks, motion_model)\n",
    "\n",
    "# Plot true robot path\n",
    "x = []\n",
    "y = []\n",
    "EKF_x = []\n",
    "EKF_y = []\n",
    "cov_dets = []\n",
    "landmark_x = []\n",
    "landmark_y = []\n",
    "\n",
    "plt.figure(figsize=(12, 9), )\n",
    "plt.xlim((-2, 12))\n",
    "plt.ylim((-2, 12))\n",
    "\n",
    "for command, readings in zip(commands, sensor):  \n",
    "    # True path\n",
    "    robot.motion_command(command)\n",
    "    x.append(robot.pose.item(0))\n",
    "    y.append(robot.pose.item(1))\n",
    "    \n",
    "    EKF.predict(command)\n",
    "    \n",
    "    #EKF.correct(readings, landmark_map)\n",
    "    \n",
    "    EKF.mean = np.copy(EKF._mean)\n",
    "    EKF.cov = np.copy(EKF._cov)\n",
    "    \n",
    "    EKF_x.append(EKF.mean[:3, :].item(0))\n",
    "    EKF_y.append(EKF.mean[:3, :].item(1))\n",
    "    cov_dets.append(np.linalg.det(EKF.cov))\n",
    "    \n",
    "for key, value in landmark_map.landmarks.items():\n",
    "    landmark_x.append(value[0])\n",
    "    landmark_y.append(value[1])    \n",
    "    \n",
    "plt.plot(x, y, 'g', zorder=1, label='GT path')    \n",
    "plt.plot(EKF_x, EKF_y, 'bx', markersize=5, zorder=2, label='EKF estimation')\n",
    "plt.plot(landmark_x, landmark_y, 'ro', zorder=0, label='Landmarks')\n",
    "plt.legend()\n",
    "\n",
    "plt.figure()\n",
    "plt.plot(cov_dets)"
   ]
  },
  {
   "cell_type": "code",
   "execution_count": null,
   "metadata": {
    "collapsed": false
   },
   "outputs": [],
   "source": []
  }
 ],
 "metadata": {
  "kernelspec": {
   "display_name": "Python 2",
   "language": "python",
   "name": "python2"
  },
  "language_info": {
   "codemirror_mode": {
    "name": "ipython",
    "version": 2
   },
   "file_extension": ".py",
   "mimetype": "text/x-python",
   "name": "python",
   "nbconvert_exporter": "python",
   "pygments_lexer": "ipython2",
   "version": "2.7.13"
  }
 },
 "nbformat": 4,
 "nbformat_minor": 2
}
