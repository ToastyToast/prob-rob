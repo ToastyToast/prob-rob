{
 "cells": [
  {
   "cell_type": "code",
   "execution_count": 109,
   "metadata": {
    "collapsed": false
   },
   "outputs": [
    {
     "name": "stdout",
     "output_type": "stream",
     "text": [
      "The autoreload extension is already loaded. To reload it, use:\n",
      "  %reload_ext autoreload\n"
     ]
    }
   ],
   "source": [
    "%load_ext autoreload\n",
    "%autoreload 2"
   ]
  },
  {
   "cell_type": "code",
   "execution_count": 110,
   "metadata": {
    "collapsed": true
   },
   "outputs": [],
   "source": [
    "%matplotlib inline"
   ]
  },
  {
   "cell_type": "code",
   "execution_count": 111,
   "metadata": {
    "collapsed": true
   },
   "outputs": [],
   "source": [
    "import numpy as np\n",
    "import matplotlib.pyplot as plt\n",
    "import math"
   ]
  },
  {
   "cell_type": "code",
   "execution_count": 112,
   "metadata": {
    "collapsed": false
   },
   "outputs": [],
   "source": [
    "def normalize_angle(angle):\n",
    "    while (angle > math.pi):\n",
    "        angle = angle - 2*math.pi\n",
    "    while (angle < -math.pi):\n",
    "        angle = angle + 2*math.pi\n",
    "    return angle\n",
    "\n",
    "\n",
    "class MotionModel:\n",
    "    def __init__(self, pose):\n",
    "        self.pose = np.zeros_like(pose)   \n",
    "        \n",
    "    @property\n",
    "    def pose(self):\n",
    "        return self.pose\n",
    "    \n",
    "    @pose.setter\n",
    "    def pose(self, new_pose):\n",
    "        self.pose = np.copy(new_pose)\n",
    "    \n",
    "    @pose.deleter\n",
    "    def pose(self):\n",
    "        self.pose = None\n",
    "        del self.pose\n",
    "        \n",
    "    def motion_command(self, command):\n",
    "        rot1 = command[0]\n",
    "        trans = command[1]\n",
    "        rot2 = command[2]\n",
    "        \n",
    "        theta_old = normalize_angle(self.pose.item(2))\n",
    "        \n",
    "        update_vec = np.matrix([\n",
    "            trans*math.cos(theta_old + rot1),\n",
    "            trans*math.sin(theta_old + rot1),\n",
    "            rot1 + rot2\n",
    "        ]).T\n",
    "        \n",
    "        self.pose = self.pose + update_vec\n",
    "        \n",
    "        return self.pose\n",
    "\n",
    "        \n",
    "class BaseRobot:\n",
    "    def __init__(self, x, y, theta, motion_model=None):\n",
    "        self.pose = np.matrix([x, y, theta]).T\n",
    "        self.motion = motion_model\n",
    "    \n",
    "    @property\n",
    "    def pose(self):\n",
    "        return self.pose\n",
    "    \n",
    "    @pose.setter\n",
    "    def pose(self, new_pose):\n",
    "        self.pose = np.copy(new_pose)\n",
    "    \n",
    "    @pose.deleter\n",
    "    def pose(self):\n",
    "        self.pose = None\n",
    "        del self.pose\n",
    "    \n",
    "    @property\n",
    "    def motion(self):\n",
    "        return self.motion\n",
    "    \n",
    "    @motion.setter\n",
    "    def motion(self, motion_model):\n",
    "        self.motion = motion_model\n",
    "    \n",
    "    @motion.deleter\n",
    "    def motion(self):\n",
    "        del self.motion\n",
    "        \n",
    "    def do_motion(self, command):\n",
    "        self.pose = self.motion.motion_command(command)"
   ]
  },
  {
   "cell_type": "code",
   "execution_count": 113,
   "metadata": {
    "collapsed": false
   },
   "outputs": [],
   "source": [
    "robot = BaseRobot(0, 0, 0)\n",
    "motion_model = MotionModel(robot.pose)\n",
    "robot.motion = motion_model\n",
    "\n",
    "num_commands = 48\n",
    "command = np.array([0.1, 0.1, 0.0001]).T\n",
    "poses = [robot.pose]\n",
    "\n",
    "for i in range(0, num_commands):\n",
    "    robot.do_motion(command)\n",
    "    poses.append(robot.pose)"
   ]
  },
  {
   "cell_type": "code",
   "execution_count": 114,
   "metadata": {
    "collapsed": false
   },
   "outputs": [
    {
     "data": {
      "text/plain": [
       "[<matplotlib.lines.Line2D at 0x9f436a0>]"
      ]
     },
     "execution_count": 114,
     "metadata": {},
     "output_type": "execute_result"
    },
    {
     "data": {
      "image/png": "[encoded data removed]",
      "text/plain": [
       "<matplotlib.figure.Figure at 0x9a18668>"
      ]
     },
     "metadata": {},
     "output_type": "display_data"
    }
   ],
   "source": [
    "x = []\n",
    "y = []\n",
    "for pose in poses:\n",
    "    x.append(pose.item(0))\n",
    "    y.append(pose.item(1))\n",
    "    \n",
    "plt.plot(x, y)"
   ]
  }
 ],
 "metadata": {
  "kernelspec": {
   "display_name": "Python 2",
   "language": "python",
   "name": "python2"
  },
  "language_info": {
   "codemirror_mode": {
    "name": "ipython",
    "version": 2
   },
   "file_extension": ".py",
   "mimetype": "text/x-python",
   "name": "python",
   "nbconvert_exporter": "python",
   "pygments_lexer": "ipython2",
   "version": "2.7.13"
  }
 },
 "nbformat": 4,
 "nbformat_minor": 2
}
